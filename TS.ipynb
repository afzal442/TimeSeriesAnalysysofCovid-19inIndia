{
  "nbformat": 4,
  "nbformat_minor": 0,
  "metadata": {
    "colab": {
      "name": "TS.ipynb",
      "provenance": [],
      "authorship_tag": "ABX9TyO7314reIctxkYVBlkMH4HD"
    },
    "kernelspec": {
      "name": "python3",
      "display_name": "Python 3"
    }
  },
  "cells": [
    {
      "cell_type": "code",
      "metadata": {
        "id": "Qk-CbP8H0fv1"
      },
      "source": [
        "import warnings\n",
        "warnings.filterwarnings('ignore')\n",
        "import pandas as pd\n",
        "import numpy as np\n",
        "import keras\n",
        "import tensorflow as tf\n",
        "from keras.preprocessing.sequence import TimeseriesGenerator\n",
        "\n",
        "# Visualisation libraries\n",
        "import matplotlib.pyplot as plt\n",
        "%matplotlib inline\n",
        "import seaborn as sns\n",
        "import plotly.express as px\n",
        "import plotly.graph_objects as go\n",
        "import folium \n",
        "from folium import plugins\n",
        "\n",
        "# Manipulating the default plot size\n",
        "plt.rcParams['figure.figsize'] = 10, 12"
      ],
      "execution_count": 1,
      "outputs": []
    },
    {
      "cell_type": "code",
      "metadata": {
        "id": "lF0asZTy9Mrh"
      },
      "source": [
        "confirmed_cases = pd.read_csv('https://raw.githubusercontent.com/CSSEGISandData/COVID-19/master/csse_covid_19_data/csse_covid_19_time_series/time_series_covid19_confirmed_global.csv')\n",
        "confirmed = confirmed_cases.drop(['Province/State','Country/Region','Lat','Long'] , axis = 1)\n",
        "dates = confirmed.keys()\n",
        "india_cases = []\n",
        "for i in dates:\n",
        "    confirmed_sum = confirmed[i].sum()\n",
        "    india_cases.append(confirmed_cases[confirmed_cases['Country/Region']=='India'][i].sum())\n",
        "india_cases = np.array(india_cases).reshape(-1, 1)"
      ],
      "execution_count": 2,
      "outputs": []
    },
    {
      "cell_type": "code",
      "metadata": {
        "id": "ZQkPmR1I9NDM"
      },
      "source": [
        "df = pd.DataFrame(index=dates, columns=['confirmed_cases'])\n",
        "df[\"confirmed_cases\"] = india_cases"
      ],
      "execution_count": 3,
      "outputs": []
    },
    {
      "cell_type": "code",
      "metadata": {
        "colab": {
          "base_uri": "https://localhost:8080/",
          "height": 202
        },
        "id": "j3HklOWs9R6u",
        "outputId": "d675480c-a01d-42d6-de0e-f60daf752960"
      },
      "source": [
        "df.tail()"
      ],
      "execution_count": 4,
      "outputs": [
        {
          "output_type": "execute_result",
          "data": {
            "text/html": [
              "<div>\n",
              "<style scoped>\n",
              "    .dataframe tbody tr th:only-of-type {\n",
              "        vertical-align: middle;\n",
              "    }\n",
              "\n",
              "    .dataframe tbody tr th {\n",
              "        vertical-align: top;\n",
              "    }\n",
              "\n",
              "    .dataframe thead th {\n",
              "        text-align: right;\n",
              "    }\n",
              "</style>\n",
              "<table border=\"1\" class=\"dataframe\">\n",
              "  <thead>\n",
              "    <tr style=\"text-align: right;\">\n",
              "      <th></th>\n",
              "      <th>confirmed_cases</th>\n",
              "    </tr>\n",
              "  </thead>\n",
              "  <tbody>\n",
              "    <tr>\n",
              "      <th>6/8/21</th>\n",
              "      <td>29089069</td>\n",
              "    </tr>\n",
              "    <tr>\n",
              "      <th>6/9/21</th>\n",
              "      <td>29182532</td>\n",
              "    </tr>\n",
              "    <tr>\n",
              "      <th>6/10/21</th>\n",
              "      <td>29274823</td>\n",
              "    </tr>\n",
              "    <tr>\n",
              "      <th>6/11/21</th>\n",
              "      <td>29359155</td>\n",
              "    </tr>\n",
              "    <tr>\n",
              "      <th>6/12/21</th>\n",
              "      <td>29439989</td>\n",
              "    </tr>\n",
              "  </tbody>\n",
              "</table>\n",
              "</div>"
            ],
            "text/plain": [
              "         confirmed_cases\n",
              "6/8/21          29089069\n",
              "6/9/21          29182532\n",
              "6/10/21         29274823\n",
              "6/11/21         29359155\n",
              "6/12/21         29439989"
            ]
          },
          "metadata": {
            "tags": []
          },
          "execution_count": 4
        }
      ]
    },
    {
      "cell_type": "code",
      "metadata": {
        "id": "nJ4Wt1mB9SR_"
      },
      "source": [
        "df_data = df['confirmed_cases'].values\n",
        "df_data = df_data.reshape((-1,1))\n",
        "\n",
        "n_percent = 0.80\n",
        "s = int(n_percent*len(df_data))\n",
        "\n",
        "df_train = df_data[:s]\n",
        "df_test = df_data[s:]\n",
        "\n",
        "date_train = df.index[:s]\n",
        "date_test = df.index[s:]"
      ],
      "execution_count": 5,
      "outputs": []
    },
    {
      "cell_type": "code",
      "metadata": {
        "id": "KyDEEYXz9bGm"
      },
      "source": [
        "train_generator = TimeseriesGenerator(df_train, df_train, length=5, batch_size=10)     \n",
        "test_generator = TimeseriesGenerator(df_test, df_test, length=5, batch_size=10)"
      ],
      "execution_count": 6,
      "outputs": []
    },
    {
      "cell_type": "code",
      "metadata": {
        "colab": {
          "base_uri": "https://localhost:8080/"
        },
        "id": "rYTzrSGP9d_W",
        "outputId": "45c336f9-4aae-4454-ffb2-98d485ecd14c"
      },
      "source": [
        "from keras.models import Sequential\n",
        "from keras.layers import LSTM, Dense, Dropout, Activation \n",
        "\n",
        "model = Sequential()\n",
        "model.add(\n",
        "    LSTM(128,\n",
        "        activation='relu',\n",
        "        input_shape=(5,1))\n",
        ")\n",
        "#model.add(Dropout(0.2))\n",
        "\n",
        "\n",
        "model.add(Dense(1))\n",
        "#model.add(Activation('softmax'))\n",
        "\n",
        "model.compile(optimizer='adam', loss='mse',metrics=['accuracy'])\n",
        "\n",
        "num_epochs = 80\n",
        "model.fit_generator(train_generator, epochs=num_epochs, verbose=1)"
      ],
      "execution_count": 7,
      "outputs": [
        {
          "output_type": "stream",
          "text": [
            "Epoch 1/80\n",
            "41/41 [==============================] - 23s 6ms/step - loss: 11207506919424.0000 - accuracy: 0.0026\n",
            "Epoch 2/80\n",
            "41/41 [==============================] - 0s 7ms/step - loss: 2068365976722.2856 - accuracy: 0.0221\n",
            "Epoch 3/80\n",
            "41/41 [==============================] - 0s 7ms/step - loss: 125305482635.8155 - accuracy: 0.0091\n",
            "Epoch 4/80\n",
            "41/41 [==============================] - 0s 6ms/step - loss: 3981458613394.2856 - accuracy: 0.0038\n",
            "Epoch 5/80\n",
            "41/41 [==============================] - 0s 6ms/step - loss: 456145096886.8571 - accuracy: 0.0107\n",
            "Epoch 6/80\n",
            "41/41 [==============================] - 0s 7ms/step - loss: 368262419602.2857 - accuracy: 0.0054\n",
            "Epoch 7/80\n",
            "41/41 [==============================] - 0s 6ms/step - loss: 137944648144.7619 - accuracy: 0.0044\n",
            "Epoch 8/80\n",
            "41/41 [==============================] - 0s 6ms/step - loss: 104243159137.5238 - accuracy: 0.0203\n",
            "Epoch 9/80\n",
            "41/41 [==============================] - 0s 7ms/step - loss: 339159776207.2381 - accuracy: 0.0238\n",
            "Epoch 10/80\n",
            "41/41 [==============================] - 0s 7ms/step - loss: 61955081117.9048 - accuracy: 0.0060\n",
            "Epoch 11/80\n",
            "41/41 [==============================] - 0s 6ms/step - loss: 28072520877.7143 - accuracy: 0.0179\n",
            "Epoch 12/80\n",
            "41/41 [==============================] - 0s 6ms/step - loss: 18745247232.0000 - accuracy: 0.0052\n",
            "Epoch 13/80\n",
            "41/41 [==============================] - 0s 6ms/step - loss: 24302858361.9708 - accuracy: 0.0320\n",
            "Epoch 14/80\n",
            "41/41 [==============================] - 0s 7ms/step - loss: 13955459254.8571 - accuracy: 0.0011\n",
            "Epoch 15/80\n",
            "41/41 [==============================] - 0s 7ms/step - loss: 11655243763.8095 - accuracy: 9.1894e-04\n",
            "Epoch 16/80\n",
            "41/41 [==============================] - 0s 6ms/step - loss: 511481200444.9524 - accuracy: 0.0011\n",
            "Epoch 17/80\n",
            "41/41 [==============================] - 0s 6ms/step - loss: 25936370870.8571 - accuracy: 0.0020\n",
            "Epoch 18/80\n",
            "41/41 [==============================] - 0s 6ms/step - loss: 29385468557.9643 - accuracy: 0.0065\n",
            "Epoch 19/80\n",
            "41/41 [==============================] - 0s 7ms/step - loss: 83434752902.4762 - accuracy: 0.0011\n",
            "Epoch 20/80\n",
            "41/41 [==============================] - 0s 7ms/step - loss: 28812899620.5714 - accuracy: 0.0050\n",
            "Epoch 21/80\n",
            "41/41 [==============================] - 0s 7ms/step - loss: 91327079277.7143 - accuracy: 0.0068\n",
            "Epoch 22/80\n",
            "41/41 [==============================] - 0s 6ms/step - loss: 25613254339.0476 - accuracy: 0.0050\n",
            "Epoch 23/80\n",
            "41/41 [==============================] - 0s 6ms/step - loss: 14823693036.1905 - accuracy: 0.0013\n",
            "Epoch 24/80\n",
            "41/41 [==============================] - 0s 6ms/step - loss: 10735917161.6071 - accuracy: 0.0069\n",
            "Epoch 25/80\n",
            "41/41 [==============================] - 0s 6ms/step - loss: 17302666261.0714 - accuracy: 0.0049\n",
            "Epoch 26/80\n",
            "41/41 [==============================] - 0s 6ms/step - loss: 12702406281.1667 - accuracy: 0.0027\n",
            "Epoch 27/80\n",
            "41/41 [==============================] - 0s 6ms/step - loss: 14800594596.6818 - accuracy: 0.0311\n",
            "Epoch 28/80\n",
            "41/41 [==============================] - 0s 6ms/step - loss: 69952584460.1905 - accuracy: 0.0157\n",
            "Epoch 29/80\n",
            "41/41 [==============================] - 0s 6ms/step - loss: 43921544630.8571 - accuracy: 0.0096\n",
            "Epoch 30/80\n",
            "41/41 [==============================] - 0s 7ms/step - loss: 75429138432.0000 - accuracy: 9.1438e-04\n",
            "Epoch 31/80\n",
            "41/41 [==============================] - 0s 7ms/step - loss: 137767199068.9997 - accuracy: 0.0134\n",
            "Epoch 32/80\n",
            "41/41 [==============================] - 0s 6ms/step - loss: 29617902933.3333 - accuracy: 0.0110\n",
            "Epoch 33/80\n",
            "41/41 [==============================] - 0s 6ms/step - loss: 30105404970.6667 - accuracy: 0.0113\n",
            "Epoch 34/80\n",
            "41/41 [==============================] - 0s 7ms/step - loss: 18092805948.9524 - accuracy: 0.0089\n",
            "Epoch 35/80\n",
            "41/41 [==============================] - 0s 6ms/step - loss: 28771759312.7887 - accuracy: 0.0198\n",
            "Epoch 36/80\n",
            "41/41 [==============================] - 0s 6ms/step - loss: 8098749110.8921 - accuracy: 0.0311\n",
            "Epoch 37/80\n",
            "41/41 [==============================] - 0s 6ms/step - loss: 22191991137.5238 - accuracy: 0.0098\n",
            "Epoch 38/80\n",
            "41/41 [==============================] - 0s 6ms/step - loss: 34276157071.2499 - accuracy: 0.0011\n",
            "Epoch 39/80\n",
            "41/41 [==============================] - 0s 6ms/step - loss: 36954948559.2381 - accuracy: 0.0022\n",
            "Epoch 40/80\n",
            "41/41 [==============================] - 0s 7ms/step - loss: 56780854363.4286 - accuracy: 0.0069\n",
            "Epoch 41/80\n",
            "41/41 [==============================] - 0s 6ms/step - loss: 52564182552.3810 - accuracy: 0.0020\n",
            "Epoch 42/80\n",
            "41/41 [==============================] - 0s 6ms/step - loss: 17305717418.6667 - accuracy: 0.0027\n",
            "Epoch 43/80\n",
            "41/41 [==============================] - 0s 6ms/step - loss: 35328604355.0476 - accuracy: 0.0017\n",
            "Epoch 44/80\n",
            "41/41 [==============================] - 0s 6ms/step - loss: 14202444196.5714 - accuracy: 0.0044\n",
            "Epoch 45/80\n",
            "41/41 [==============================] - 0s 6ms/step - loss: 8723276637.7143 - accuracy: 0.0125\n",
            "Epoch 46/80\n",
            "41/41 [==============================] - 0s 7ms/step - loss: 31499341942.0952 - accuracy: 0.0146\n",
            "Epoch 47/80\n",
            "41/41 [==============================] - 0s 6ms/step - loss: 57395490377.1429 - accuracy: 0.0050\n",
            "Epoch 48/80\n",
            "41/41 [==============================] - 0s 6ms/step - loss: 12286614442.6667 - accuracy: 0.0102\n",
            "Epoch 49/80\n",
            "41/41 [==============================] - 0s 6ms/step - loss: 18220280807.6190 - accuracy: 0.0127\n",
            "Epoch 50/80\n",
            "41/41 [==============================] - 0s 6ms/step - loss: 14550289237.3333 - accuracy: 0.0114\n",
            "Epoch 51/80\n",
            "41/41 [==============================] - 0s 6ms/step - loss: 12765979708.9524 - accuracy: 0.0047\n",
            "Epoch 52/80\n",
            "41/41 [==============================] - 0s 7ms/step - loss: 15205698432.0000 - accuracy: 0.0169\n",
            "Epoch 53/80\n",
            "41/41 [==============================] - 0s 7ms/step - loss: 66105271844.5714 - accuracy: 0.0011\n",
            "Epoch 54/80\n",
            "41/41 [==============================] - 0s 6ms/step - loss: 11046486308.5714 - accuracy: 0.0091\n",
            "Epoch 55/80\n",
            "41/41 [==============================] - 0s 6ms/step - loss: 13216722358.8571 - accuracy: 0.0029\n",
            "Epoch 56/80\n",
            "41/41 [==============================] - 0s 6ms/step - loss: 12844723218.2889 - accuracy: 0.0412\n",
            "Epoch 57/80\n",
            "41/41 [==============================] - 0s 6ms/step - loss: 18825517098.6667 - accuracy: 0.0054\n",
            "Epoch 58/80\n",
            "41/41 [==============================] - 0s 6ms/step - loss: 16751623248.7619 - accuracy: 0.0093\n",
            "Epoch 59/80\n",
            "41/41 [==============================] - 0s 6ms/step - loss: 125461614396.9524 - accuracy: 0.0085\n",
            "Epoch 60/80\n",
            "41/41 [==============================] - 0s 7ms/step - loss: 55215249776.8037 - accuracy: 0.0134\n",
            "Epoch 61/80\n",
            "41/41 [==============================] - 0s 7ms/step - loss: 17784655128.3810 - accuracy: 0.0163\n",
            "Epoch 62/80\n",
            "41/41 [==============================] - 0s 6ms/step - loss: 15595065831.6190 - accuracy: 0.0168\n",
            "Epoch 63/80\n",
            "41/41 [==============================] - 0s 6ms/step - loss: 12994136769.5238 - accuracy: 0.0035\n",
            "Epoch 64/80\n",
            "41/41 [==============================] - 0s 6ms/step - loss: 13824004365.2381 - accuracy: 0.0012\n",
            "Epoch 65/80\n",
            "41/41 [==============================] - 0s 7ms/step - loss: 26315877327.2381 - accuracy: 0.0050\n",
            "Epoch 66/80\n",
            "41/41 [==============================] - 0s 6ms/step - loss: 11027799286.8571 - accuracy: 0.0017\n",
            "Epoch 67/80\n",
            "41/41 [==============================] - 0s 6ms/step - loss: 33320743643.4286 - accuracy: 0.0022\n",
            "Epoch 68/80\n",
            "41/41 [==============================] - 0s 6ms/step - loss: 37826243096.3810 - accuracy: 9.1894e-04\n",
            "Epoch 69/80\n",
            "41/41 [==============================] - 0s 7ms/step - loss: 23074618758.0952 - accuracy: 0.0122\n",
            "Epoch 70/80\n",
            "41/41 [==============================] - 0s 6ms/step - loss: 22095051910.0952 - accuracy: 0.0022\n",
            "Epoch 71/80\n",
            "41/41 [==============================] - 0s 6ms/step - loss: 18112082410.0952 - accuracy: 0.0214\n",
            "Epoch 72/80\n",
            "41/41 [==============================] - 0s 6ms/step - loss: 26962139916.1905 - accuracy: 0.0062\n",
            "Epoch 73/80\n",
            "41/41 [==============================] - 0s 6ms/step - loss: 27916367969.5238 - accuracy: 0.0017\n",
            "Epoch 74/80\n",
            "41/41 [==============================] - 0s 6ms/step - loss: 15376074889.6238 - accuracy: 0.0026\n",
            "Epoch 75/80\n",
            "41/41 [==============================] - 0s 6ms/step - loss: 25779831198.4762 - accuracy: 0.0082\n",
            "Epoch 76/80\n",
            "41/41 [==============================] - 0s 6ms/step - loss: 17686908294.0952 - accuracy: 0.0077\n",
            "Epoch 77/80\n",
            "41/41 [==============================] - 0s 7ms/step - loss: 15996057929.1429 - accuracy: 5.3893e-04\n",
            "Epoch 78/80\n",
            "41/41 [==============================] - 0s 7ms/step - loss: 15603060145.7143 - accuracy: 9.1894e-04\n",
            "Epoch 79/80\n",
            "41/41 [==============================] - 0s 6ms/step - loss: 22509812918.8571 - accuracy: 7.1858e-04\n",
            "Epoch 80/80\n",
            "41/41 [==============================] - 0s 6ms/step - loss: 97970638067.8095 - accuracy: 7.2641e-04\n"
          ],
          "name": "stdout"
        },
        {
          "output_type": "execute_result",
          "data": {
            "text/plain": [
              "<keras.callbacks.History at 0x7f3601a3d110>"
            ]
          },
          "metadata": {
            "tags": []
          },
          "execution_count": 7
        }
      ]
    },
    {
      "cell_type": "code",
      "metadata": {
        "id": "V6ee6L3Y9hI2"
      },
      "source": [
        "prediction = model.predict_generator(test_generator)"
      ],
      "execution_count": 8,
      "outputs": []
    },
    {
      "cell_type": "code",
      "metadata": {
        "id": "Yg_BnchI-ImY"
      },
      "source": [
        "pred_list = []\n",
        "n_input = 5\n",
        "n_features = 1\n",
        "n_forecast = 10 # forecast future dates\n",
        "\n",
        "batch = df_data[-n_input:].reshape((1, n_input, n_features))\n",
        "\n",
        "for i in range(n_forecast):   \n",
        "    pred_list.append(model.predict(batch)[0]) \n",
        "    batch = np.append(batch[:,1:,:],[[pred_list[i]]],axis=1)\n",
        "prediction_list = []\n",
        "for item in pred_list:\n",
        "    prediction_list.append(int(item))\n",
        "    \n",
        "def predict_dates(n_forecast):\n",
        "    l_date = df.index.values[-1]\n",
        "    post_dates = pd.date_range(l_date, periods=n_forecast).tolist()\n",
        "    return post_dates\n",
        "\n",
        "\n",
        "forecast_dates = predict_dates(n_forecast)"
      ],
      "execution_count": 9,
      "outputs": []
    },
    {
      "cell_type": "code",
      "metadata": {
        "id": "i8qGtFf2-bQv"
      },
      "source": [
        "df_predict = pd.DataFrame(index=forecast_dates, columns=['Prediction'])\n",
        "df_predict[\"Prediction\"] = prediction_list\n",
        "df.index = pd.to_datetime(df.index)"
      ],
      "execution_count": 13,
      "outputs": []
    },
    {
      "cell_type": "code",
      "metadata": {
        "colab": {
          "base_uri": "https://localhost:8080/",
          "height": 355
        },
        "id": "F3kpeAQyAdGo",
        "outputId": "80ded436-54ff-43ac-c112-57ac05aab8ef"
      },
      "source": [
        "df_predict"
      ],
      "execution_count": 14,
      "outputs": [
        {
          "output_type": "execute_result",
          "data": {
            "text/html": [
              "<div>\n",
              "<style scoped>\n",
              "    .dataframe tbody tr th:only-of-type {\n",
              "        vertical-align: middle;\n",
              "    }\n",
              "\n",
              "    .dataframe tbody tr th {\n",
              "        vertical-align: top;\n",
              "    }\n",
              "\n",
              "    .dataframe thead th {\n",
              "        text-align: right;\n",
              "    }\n",
              "</style>\n",
              "<table border=\"1\" class=\"dataframe\">\n",
              "  <thead>\n",
              "    <tr style=\"text-align: right;\">\n",
              "      <th></th>\n",
              "      <th>Prediction</th>\n",
              "    </tr>\n",
              "  </thead>\n",
              "  <tbody>\n",
              "    <tr>\n",
              "      <th>2021-06-12</th>\n",
              "      <td>29263660</td>\n",
              "    </tr>\n",
              "    <tr>\n",
              "      <th>2021-06-13</th>\n",
              "      <td>29326816</td>\n",
              "    </tr>\n",
              "    <tr>\n",
              "      <th>2021-06-14</th>\n",
              "      <td>29375458</td>\n",
              "    </tr>\n",
              "    <tr>\n",
              "      <th>2021-06-15</th>\n",
              "      <td>29382430</td>\n",
              "    </tr>\n",
              "    <tr>\n",
              "      <th>2021-06-16</th>\n",
              "      <td>29379404</td>\n",
              "    </tr>\n",
              "    <tr>\n",
              "      <th>2021-06-17</th>\n",
              "      <td>29367742</td>\n",
              "    </tr>\n",
              "    <tr>\n",
              "      <th>2021-06-18</th>\n",
              "      <td>29395984</td>\n",
              "    </tr>\n",
              "    <tr>\n",
              "      <th>2021-06-19</th>\n",
              "      <td>29409768</td>\n",
              "    </tr>\n",
              "    <tr>\n",
              "      <th>2021-06-20</th>\n",
              "      <td>29412578</td>\n",
              "    </tr>\n",
              "    <tr>\n",
              "      <th>2021-06-21</th>\n",
              "      <td>29418502</td>\n",
              "    </tr>\n",
              "  </tbody>\n",
              "</table>\n",
              "</div>"
            ],
            "text/plain": [
              "            Prediction\n",
              "2021-06-12    29263660\n",
              "2021-06-13    29326816\n",
              "2021-06-14    29375458\n",
              "2021-06-15    29382430\n",
              "2021-06-16    29379404\n",
              "2021-06-17    29367742\n",
              "2021-06-18    29395984\n",
              "2021-06-19    29409768\n",
              "2021-06-20    29412578\n",
              "2021-06-21    29418502"
            ]
          },
          "metadata": {
            "tags": []
          },
          "execution_count": 14
        }
      ]
    },
    {
      "cell_type": "code",
      "metadata": {
        "colab": {
          "base_uri": "https://localhost:8080/",
          "height": 613
        },
        "id": "j4oIOrlSAgPL",
        "outputId": "2a3881d8-7d4b-47f4-df12-7e1a72f9a31f"
      },
      "source": [
        "plt.figure(figsize=(20, 10))\n",
        "plt.rcParams[\"font.family\"] = \"sans-serif\"\n",
        "plt.plot(df.index, df['confirmed_cases'])\n",
        "plt.plot(forecast_dates, df_predict[\"Prediction\"],linestyle='dashed', color='r')\n",
        "plt.legend(['Confirmed Cases', 'LSTM_Model_Predictions'], prop={'size': 20}, fontsize='xx-large')\n",
        "plt.xlabel('Dates', size=20)\n",
        "plt.ylabel('Number of Cases', size=20)\n",
        "plt.xticks(fontsize=20)\n",
        "plt.yticks(fontsize=18)\n",
        "plt.show()"
      ],
      "execution_count": 15,
      "outputs": [
        {
          "output_type": "display_data",
          "data": {
            "image/png": "[encoded data removed]",
            "text/plain": [
              "<Figure size 1440x720 with 1 Axes>"
            ]
          },
          "metadata": {
            "tags": [],
            "needs_background": "light"
          }
        }
      ]
    },
    {
      "cell_type": "code",
      "metadata": {
        "id": "tUBgS13aAnhB"
      },
      "source": [
        ""
      ],
      "execution_count": null,
      "outputs": []
    }
  ]
}